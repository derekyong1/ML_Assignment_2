{
 "cells": [
  {
   "cell_type": "markdown",
   "metadata": {},
   "source": [
    "# 7641 ML Assignment 2 Part 1"
   ]
  },
  {
   "cell_type": "markdown",
   "metadata": {},
   "source": [
    "## Import Libraries"
   ]
  },
  {
   "cell_type": "code",
   "execution_count": 17,
   "metadata": {},
   "outputs": [],
   "source": [
    "import six\n",
    "import sys\n",
    "sys.modules['sklearn.externals.six'] = six\n",
    "\n",
    "import pandas as pd\n",
    "import numpy as np \n",
    "import mlrose\n",
    "import time\n",
    "import mlrose_hiive\n",
    "import itertools\n",
    "import matplotlib.pyplot as plt"
   ]
  },
  {
   "cell_type": "markdown",
   "metadata": {},
   "source": [
    "## Randomized Optimization Algorithms"
   ]
  },
  {
   "cell_type": "code",
   "execution_count": 18,
   "metadata": {},
   "outputs": [],
   "source": [
    "# Defining Fitness Functions\n",
    "fitness_functions = [mlrose_hiive.FourPeaks(), mlrose_hiive.ContinuousPeaks(), mlrose_hiive.FlipFlop()]"
   ]
  },
  {
   "cell_type": "markdown",
   "metadata": {},
   "source": [
    "### Hyperparameter Tuning "
   ]
  },
  {
   "cell_type": "code",
   "execution_count": 19,
   "metadata": {},
   "outputs": [],
   "source": [
    "# Randomized Hill Climbing\n",
    "\n",
    "def rhc_tuning():\n",
    "    rhc_best_param = None\n",
    "    rhc_best_fitness_value = None\n",
    "\n",
    "    for item in fitness_functions:\n",
    "        for i in [0, 10, 20, 30, 40, 50, 60, 70, 80, 90, 100]:\n",
    "            opt_problem = mlrose_hiive.DiscreteOpt(length=100, fitness_fn=item, maximize=True)\n",
    "            rhc_best_state, rhc_best_fitness, rhc_fitness_curve = mlrose_hiive.random_hill_climb(opt_problem, \n",
    "                                                                                 max_attempts = 400, \n",
    "                                                                                 max_iters= 400, \n",
    "                                                                                 curve=True, \n",
    "                                                                                 random_state=1,\n",
    "                                                                                 restarts = i)\n",
    "\n",
    "            if not rhc_best_fitness_value:\n",
    "                rhc_best_param = i\n",
    "                rhc_best_fitness_value = rhc_best_fitness\n",
    "            elif rhc_best_fitness > rhc_best_fitness_value:\n",
    "                rhc_best_param = i\n",
    "                rhc_best_fitness_value = rhc_best_fitness\n",
    "        print(\"Best RHC parameters for {} = {}\".format(item, str(rhc_best_param)))\n"
   ]
  },
  {
   "cell_type": "code",
   "execution_count": 20,
   "metadata": {},
   "outputs": [
    {
     "name": "stdout",
     "output_type": "stream",
     "text": [
      "Best RHC parameters for <mlrose_hiive.fitness.four_peaks.FourPeaks object at 0x000002E22C5140A0> = 80\n",
      "Best RHC parameters for <mlrose_hiive.fitness.continuous_peaks.ContinuousPeaks object at 0x000002E22C514D60> = 70\n",
      "Best RHC parameters for <mlrose_hiive.fitness.flip_flop.FlipFlop object at 0x000002E22C514190> = 70\n"
     ]
    }
   ],
   "source": [
    "rhc_tuning()"
   ]
  },
  {
   "cell_type": "code",
   "execution_count": 21,
   "metadata": {},
   "outputs": [],
   "source": [
    "# Simulated Annealing\n",
    "\n",
    "def sa_tuning():\n",
    "    sa_params = [\n",
    "       [1, 2, 4, 8, 16, 32, 64],\n",
    "       [0.1, 0.2, 0.4, 0.8],\n",
    "       [0.001, 0.01, 0.1, 1]\n",
    "    ]\n",
    "\n",
    "    sa_best_param = None\n",
    "    sa_best_fitness_value = None\n",
    "\n",
    "    for item in fitness_functions:\n",
    "        for i in itertools.product(*sa_params):\n",
    "            sa_problem = mlrose_hiive.DiscreteOpt(length=100, fitness_fn=item, maximize=True)\n",
    "            decay = mlrose_hiive.GeomDecay(init_temp = i[0], decay=i[1], min_temp=i[2])\n",
    "            sa_best_state, sa_best_fitness, sa_fitness_curve = mlrose_hiive.simulated_annealing(\n",
    "                                                        sa_problem, \n",
    "                                                        max_attempts=400, \n",
    "                                                        max_iters=400, \n",
    "                                                        curve=True, \n",
    "                                                        random_state=1,\n",
    "                                                        schedule=decay)\n",
    "\n",
    "            if not sa_best_fitness_value:\n",
    "                sa_best_param = i\n",
    "                sa_best_fitness_value = sa_best_fitness\n",
    "            elif sa_best_fitness > sa_best_fitness_value:\n",
    "                sa_best_param = i\n",
    "                sa_best_fitness_value = sa_best_fitness\n",
    "        print(\"Best SA parameters for {} = {}\".format(item, str(sa_best_param)))\n",
    "        "
   ]
  },
  {
   "cell_type": "code",
   "execution_count": 22,
   "metadata": {},
   "outputs": [
    {
     "name": "stdout",
     "output_type": "stream",
     "text": [
      "Best SA parameters for <mlrose_hiive.fitness.four_peaks.FourPeaks object at 0x000002E22C5140A0> = (1, 0.1, 1)\n",
      "Best SA parameters for <mlrose_hiive.fitness.continuous_peaks.ContinuousPeaks object at 0x000002E22C514D60> = (1, 0.1, 0.001)\n",
      "Best SA parameters for <mlrose_hiive.fitness.flip_flop.FlipFlop object at 0x000002E22C514190> = (64, 0.8, 0.001)\n"
     ]
    }
   ],
   "source": [
    "sa_tuning()"
   ]
  },
  {
   "cell_type": "code",
   "execution_count": 23,
   "metadata": {},
   "outputs": [],
   "source": [
    "# Genetic Algorithm \n",
    "\n",
    "def ga_tuning():\n",
    "    ga_hyperparams = [\n",
    "       [200, 400, 700, 900],\n",
    "       [0.2, 0.4, 0.6, 0.8]\n",
    "    ]\n",
    "\n",
    "\n",
    "    ga_best_param = None\n",
    "    ga_best_fitness_value = None\n",
    "\n",
    "    for item in fitness_functions:\n",
    "        for i in itertools.product(*ga_hyperparams):\n",
    "            ga_problem = mlrose_hiive.DiscreteOpt(length=100, fitness_fn=item, maximize=True)\n",
    "            ga_best_state, ga_best_fitness, ga_fitness_curve = mlrose_hiive.genetic_alg(\n",
    "                                                        ga_problem, \n",
    "                                                        max_attempts=400, \n",
    "                                                        max_iters=400, \n",
    "                                                        curve=True, \n",
    "                                                        random_state=1,\n",
    "                                                        pop_size=i[0],\n",
    "                                                        mutation_prob=i[1])\n",
    "\n",
    "            if not ga_best_fitness_value:\n",
    "                ga_best_param = i\n",
    "                ga_best_fitness_value = ga_best_fitness\n",
    "            elif ga_best_fitness > ga_best_fitness_value:\n",
    "                ga_best_param = i\n",
    "                ga_best_fitness_value = ga_best_fitness\n",
    "        print(\"Best GA parameters for {} = {}\".format(item, str(ga_best_param)))\n",
    "        "
   ]
  },
  {
   "cell_type": "code",
   "execution_count": 24,
   "metadata": {},
   "outputs": [
    {
     "name": "stdout",
     "output_type": "stream",
     "text": [
      "Best GA parameters for <mlrose_hiive.fitness.four_peaks.FourPeaks object at 0x000002E22C5140A0> = (200, 0.2)\n",
      "Best GA parameters for <mlrose_hiive.fitness.continuous_peaks.ContinuousPeaks object at 0x000002E22C514D60> = (200, 0.2)\n",
      "Best GA parameters for <mlrose_hiive.fitness.flip_flop.FlipFlop object at 0x000002E22C514190> = (200, 0.2)\n"
     ]
    }
   ],
   "source": [
    "ga_tuning()"
   ]
  },
  {
   "cell_type": "code",
   "execution_count": 25,
   "metadata": {},
   "outputs": [],
   "source": [
    "# MIMIC\n",
    "\n",
    "def mimic_tuning():\n",
    "    \n",
    "    mimic_hyperparams = [\n",
    "       [200, 500, 900],\n",
    "       [0.25, 0.5, 0.75]\n",
    "    ]\n",
    "    \n",
    "    mimic_best_param = None\n",
    "    mimic_best_fitness_value = None\n",
    "\n",
    "    for item in fitness_functions:\n",
    "        for i in itertools.product(*mimic_hyperparams):\n",
    "            mimic_problem = mlrose_hiive.DiscreteOpt(length=100, fitness_fn=item, maximize=True)\n",
    "            mimic_best_state, mimic_best_fitness, mimic_fitness_curve = mlrose_hiive.mimic(\n",
    "                                                                mimic_problem, \n",
    "                                                                max_attempts = 10, \n",
    "                                                                max_iters = 10,  \n",
    "                                                                curve = True, \n",
    "                                                                random_state =1,\n",
    "                                                                pop_size=i[0],\n",
    "                                                                keep_pct = i[1]\n",
    "                                                                )\n",
    "            if not mimic_best_fitness_value:\n",
    "                mimic_best_param = i\n",
    "                mimic_best_fitness_value = mimic_best_fitness\n",
    "            elif mimic_best_fitness > mimic_best_fitness_value:\n",
    "                mimic_best_param = i\n",
    "                mimic_best_fitness_value = mimic_best_fitness\n",
    "        print(\"Best MIMIC parameters for {} = {}\".format(item, str(mimic_best_param)))\n",
    "        "
   ]
  },
  {
   "cell_type": "code",
   "execution_count": 26,
   "metadata": {},
   "outputs": [
    {
     "name": "stdout",
     "output_type": "stream",
     "text": [
      "Best MIMIC parameters for <mlrose_hiive.fitness.four_peaks.FourPeaks object at 0x000002E22C5140A0> = (200, 0.25)\n",
      "Best MIMIC parameters for <mlrose_hiive.fitness.continuous_peaks.ContinuousPeaks object at 0x000002E22C514D60> = (200, 0.25)\n",
      "Best MIMIC parameters for <mlrose_hiive.fitness.flip_flop.FlipFlop object at 0x000002E22C514190> = (200, 0.25)\n"
     ]
    }
   ],
   "source": [
    "mimic_tuning()"
   ]
  },
  {
   "cell_type": "markdown",
   "metadata": {},
   "source": [
    "## Solving Optimization Problems"
   ]
  },
  {
   "cell_type": "code",
   "execution_count": 64,
   "metadata": {},
   "outputs": [],
   "source": [
    "# Defining Max Attempts and Max Iterations \n",
    "max_attempts = 100\n",
    "max_iterations = 100"
   ]
  },
  {
   "cell_type": "markdown",
   "metadata": {},
   "source": [
    "### Helper Functions"
   ]
  },
  {
   "cell_type": "code",
   "execution_count": 29,
   "metadata": {},
   "outputs": [],
   "source": [
    "# Randomized Hill Climbing\n",
    "def rhc(problem, max_attempts, max_iterations, restarts, title):\n",
    "    start_time = time.time()\n",
    "    rhc_best_state, rhc_best_fitness, rhc_fitness_curve = mlrose_hiive.random_hill_climb(problem = problem, \n",
    "                                                                             max_attempts = max_attempts, \n",
    "                                                                             max_iters= max_iterations, \n",
    "                                                                             curve=True, \n",
    "                                                                             random_state=1,\n",
    "                                                                             restarts = restarts)\n",
    "    end_time = time.time()\n",
    "    rhc_result_time = end_time - start_time\n",
    "    \n",
    "\n",
    "    fitnessIteration(max_iterations, rhc_fitness_curve, 'RHC', title)\n",
    "    \n",
    "    \n",
    "    return \"Randomized Hill Climbing total time: \" + str(rhc_result_time)"
   ]
  },
  {
   "cell_type": "code",
   "execution_count": 30,
   "metadata": {},
   "outputs": [],
   "source": [
    "# Simulated Annealing\n",
    "def sa(problem, max_attempts, max_iterations, schedule, title):\n",
    "    start_time = time.time()\n",
    "    sa_best_state, sa_best_fitness, sa_fitness_curve = mlrose_hiive.simulated_annealing(\n",
    "                                                problem = problem, \n",
    "                                                max_attempts = max_attempts, \n",
    "                                                max_iters = max_iterations, \n",
    "                                                curve=True,\n",
    "                                                random_state=1,\n",
    "                                                schedule=mlrose.GeomDecay(init_temp = schedule[0], decay = schedule[1], min_temp = schedule[2]))\n",
    "    end_time = time.time()\n",
    "    sa_result_time = end_time - start_time\n",
    "    \n",
    "    \n",
    "    fitnessIteration(max_iterations, sa_fitness_curve, 'SA', title)\n",
    "    \n",
    "    \n",
    "    return \"Simulated Annealing total time: \" + str(sa_result_time)"
   ]
  },
  {
   "cell_type": "code",
   "execution_count": 52,
   "metadata": {},
   "outputs": [],
   "source": [
    "# Genetic Algorithm \n",
    "def ga(problem, max_attempts, max_iterations, pop_size, mutation_prob, title):\n",
    "    start_time = time.time()\n",
    "    ga_best_state, ga_best_fitness, ga_fitness_curve = mlrose_hiive.genetic_alg(\n",
    "                                                problem = problem, \n",
    "                                                max_attempts=max_attempts, \n",
    "                                                max_iters=max_iterations, \n",
    "                                                curve=True, \n",
    "                                                random_state=1,\n",
    "                                                pop_size=pop_size,\n",
    "                                                mutation_prob=mutation_prob)\n",
    "    end_time = time.time()\n",
    "    ga_result_time = end_time - start_time\n",
    "    \n",
    "    \n",
    "    fitnessIteration(max_iterations, ga_fitness_curve, 'GA', title)\n",
    "#     evaIteration(max_iterations, ga_fitness_curve, 'GA', title)\n",
    "    \n",
    "    \n",
    "    \n",
    "    return \"Genetic Algorithm total time: \"+ str(ga_result_time)"
   ]
  },
  {
   "cell_type": "code",
   "execution_count": 32,
   "metadata": {},
   "outputs": [],
   "source": [
    "# MIMIC\n",
    "def mimic(problem, m_pop_size, keep_pct, title):\n",
    "    start_time = time.time()\n",
    "    mimic_best_state, mimic_best_fitness, mimic_fitness_curve = mlrose_hiive.mimic(\n",
    "                                                        problem = problem, \n",
    "                                                        max_attempts = 100, \n",
    "                                                        max_iters = 100,  \n",
    "                                                        curve = True, \n",
    "                                                        random_state =1,\n",
    "                                                        pop_size=m_pop_size,\n",
    "                                                        keep_pct = keep_pct\n",
    "                                                        )\n",
    "    end_time = time.time()\n",
    "    mimic_result_time = end_time - start_time\n",
    "    \n",
    "    \n",
    "    fitnessIteration(max_iterations, mimic_fitness_curve, 'MIMIC', title)\n",
    "    \n",
    "    \n",
    "    return \"MIMIC total time: \" + str(mimic_result_time)"
   ]
  },
  {
   "cell_type": "code",
   "execution_count": 33,
   "metadata": {},
   "outputs": [],
   "source": [
    "# Fitness vs Iteration Plot\n",
    "def fitnessIteration(max_iterations, curve, label, title):\n",
    "    iter_range = range(1, max_iterations + 1)\n",
    "    result = [item[0] for item in curve]\n",
    "    plt.plot(iter_range, result, label=label, color='green')\n",
    "    plt.title('Fitness vs Iteration: ' + title)\n",
    "    plt.legend(loc=\"best\")\n",
    "    plt.xlabel(\"Iterations\")\n",
    "    plt.ylabel(\"Fitness\")"
   ]
  },
  {
   "cell_type": "code",
   "execution_count": 38,
   "metadata": {},
   "outputs": [],
   "source": [
    "def evaIteration(max_iterations, curve, label, title):\n",
    "    iter_range = range(1, max_iterations + 1)\n",
    "    result = [item[1] for item in curve]\n",
    "    plt.plot(iter_range, result, label=label, color='green')\n",
    "    plt.title('Fitness vs Iteration: ' + title)\n",
    "    plt.legend(loc=\"best\")\n",
    "    plt.xlabel(\"Iterations\")\n",
    "    plt.ylabel(\"Evaluation\")"
   ]
  },
  {
   "cell_type": "code",
   "execution_count": 34,
   "metadata": {},
   "outputs": [],
   "source": [
    "def algo_comparison(problem, title, restarts, schedule, pop_size, mutation_prob, m_pop_size, keep_pct):\n",
    "    # Randomized Hill Climbing\n",
    "    rhc_start_time = time.time()\n",
    "    rhc_best_state, rhc_best_fitness, rhc_fitness_curve = mlrose_hiive.random_hill_climb(problem = problem, \n",
    "                                                                             max_attempts = 100, \n",
    "                                                                             max_iters= 100, \n",
    "                                                                             curve=True, \n",
    "                                                                             random_state=1,\n",
    "                                                                             restarts = restarts)\n",
    "    rhc_end_time = time.time()\n",
    "    rhc_result_time = rhc_end_time - rhc_start_time\n",
    "    \n",
    "    \n",
    "    # Simulated Annealing\n",
    "    sa_start_time = time.time()\n",
    "    sa_best_state, sa_best_fitness, sa_fitness_curve = mlrose_hiive.simulated_annealing(\n",
    "                                                problem = problem, \n",
    "                                                max_attempts = 100, \n",
    "                                                max_iters = 100, \n",
    "                                                curve=True,\n",
    "                                                random_state=1,\n",
    "                                                schedule=mlrose.GeomDecay(init_temp = schedule[0], decay = schedule[1], min_temp = schedule[2]))\n",
    "    sa_end_time = time.time()\n",
    "    sa_result_time = sa_end_time - sa_start_time   \n",
    "    \n",
    "    \n",
    "    # Genetic Algorithm \n",
    "    ga_start_time = time.time()\n",
    "    ga_best_state, ga_best_fitness, ga_fitness_curve = mlrose_hiive.genetic_alg(\n",
    "                                                problem = problem, \n",
    "                                                max_attempts=100, \n",
    "                                                max_iters=100, \n",
    "                                                curve=True, \n",
    "                                                random_state=1,\n",
    "                                                pop_size=pop_size,\n",
    "                                                mutation_prob=mutation_prob)\n",
    "    \n",
    "    ga_end_time = time.time()\n",
    "    ga_result_time = ga_end_time - ga_start_time \n",
    "    \n",
    "    \n",
    "    # MIMIC\n",
    "    mimic_start_time = time.time()\n",
    "    mimic_best_state, mimic_best_fitness, mimic_fitness_curve = mlrose_hiive.mimic(\n",
    "                                                        problem = problem, \n",
    "                                                        max_attempts = 100, \n",
    "                                                        max_iters = 100,  \n",
    "                                                        curve = True, \n",
    "                                                        random_state =1,\n",
    "                                                        pop_size=m_pop_size,\n",
    "                                                        keep_pct = keep_pct\n",
    "                                                        )\n",
    "    \n",
    "\n",
    "    mimic_end_time = time.time()\n",
    "    mimic_result_time = mimic_end_time - mimic_start_time \n",
    "    \n",
    "    \n",
    "    iterations = range(1, 101)\n",
    "    \n",
    "    # Getting the fitness score from the fittness curve arraylist\n",
    "    rhc_result = [item[0] for item in rhc_fitness_curve]\n",
    "    sa_result = [item[0] for item in sa_fitness_curve]\n",
    "    ga_result = [item[0] for item in ga_fitness_curve]\n",
    "    mimic_result = [item[0] for item in mimic_fitness_curve]\n",
    "    \n",
    "    # Plotting the curves together to see the differences\n",
    "    plt.plot(iterations, rhc_result, label='RHC', color='green')\n",
    "    plt.plot(iterations, sa_result, label='SA', color='red')\n",
    "    plt.plot(iterations, ga_result, label='GA', color='blue')\n",
    "    plt.plot(iterations, mimic_result, label='MIMIC', color='orange')\n",
    "    plt.title(title)\n",
    "    plt.legend(loc=\"best\")\n",
    "    plt.xlabel(\"Iterations\")\n",
    "    plt.ylabel(\"Fitness\")\n",
    "    \n",
    "    \n",
    "    print('Algorithm Total Times: ')\n",
    "    print('Randomized Hill Climbing: ' + str(rhc_result_time))\n",
    "    print('Simulated Annealing: ' + str(sa_result_time))\n",
    "    print('Genetic Algorithm: ' + str(ga_result_time))\n",
    "    print('MIMIC: ' + str(mimic_result_time))\n"
   ]
  },
  {
   "cell_type": "code",
   "execution_count": 35,
   "metadata": {},
   "outputs": [],
   "source": [
    "def algo_evaluation(problem, title, restarts, schedule, pop_size, mutation_prob, m_pop_size, keep_pct):\n",
    "    # Randomized Hill Climbing\n",
    "    rhc_start_time = time.time()\n",
    "    rhc_best_state, rhc_best_fitness, rhc_fitness_curve = mlrose_hiive.random_hill_climb(problem = problem, \n",
    "                                                                             max_attempts = 100, \n",
    "                                                                             max_iters= 100, \n",
    "                                                                             curve=True, \n",
    "                                                                             random_state=1,\n",
    "                                                                             restarts = restarts)\n",
    "    rhc_end_time = time.time()\n",
    "    rhc_result_time = rhc_end_time - rhc_start_time\n",
    "    \n",
    "    \n",
    "    # Simulated Annealing\n",
    "    sa_start_time = time.time()\n",
    "    sa_best_state, sa_best_fitness, sa_fitness_curve = mlrose_hiive.simulated_annealing(\n",
    "                                                problem = problem, \n",
    "                                                max_attempts = 100, \n",
    "                                                max_iters = 100, \n",
    "                                                curve=True,\n",
    "                                                random_state=1,\n",
    "                                                schedule=mlrose.GeomDecay(init_temp = schedule[0], decay = schedule[1], min_temp = schedule[2]))\n",
    "    sa_end_time = time.time()\n",
    "    sa_result_time = sa_end_time - sa_start_time   \n",
    "    \n",
    "    \n",
    "    # Genetic Algorithm \n",
    "    ga_start_time = time.time()\n",
    "    ga_best_state, ga_best_fitness, ga_fitness_curve = mlrose_hiive.genetic_alg(\n",
    "                                                problem = problem, \n",
    "                                                max_attempts=100, \n",
    "                                                max_iters=100, \n",
    "                                                curve=True, \n",
    "                                                random_state=1,\n",
    "                                                pop_size=pop_size,\n",
    "                                                mutation_prob=mutation_prob)\n",
    "    \n",
    "    ga_end_time = time.time()\n",
    "    ga_result_time = ga_end_time - ga_start_time \n",
    "    \n",
    "    \n",
    "    # MIMIC\n",
    "    mimic_start_time = time.time()\n",
    "    mimic_best_state, mimic_best_fitness, mimic_fitness_curve = mlrose_hiive.mimic(\n",
    "                                                        problem = problem, \n",
    "                                                        max_attempts = 100, \n",
    "                                                        max_iters = 100,  \n",
    "                                                        curve = True, \n",
    "                                                        random_state =1,\n",
    "                                                        pop_size=m_pop_size,\n",
    "                                                        keep_pct = keep_pct\n",
    "                                                        )\n",
    "    \n",
    "\n",
    "    mimic_end_time = time.time()\n",
    "    mimic_result_time = mimic_end_time - mimic_start_time \n",
    "    \n",
    "    \n",
    "    iterations = range(1, 101)\n",
    "    \n",
    "    # Getting the fitness score from the fittness curve arraylist\n",
    "    rhc_result = [item[1] for item in rhc_fitness_curve]\n",
    "    sa_result = [item[1] for item in sa_fitness_curve]\n",
    "    ga_result = [item[1] for item in ga_fitness_curve]\n",
    "    mimic_result = [item[1] for item in mimic_fitness_curve]\n",
    "    \n",
    "    # Plotting the curves together to see the differences\n",
    "    plt.plot(iterations, rhc_result, label='RHC', color='green')\n",
    "    plt.plot(iterations, sa_result, label='SA', color='red')\n",
    "    plt.plot(iterations, ga_result, label='GA', color='blue')\n",
    "    plt.plot(iterations, mimic_result, label='MIMIC', color='orange')\n",
    "    plt.title(title)\n",
    "    plt.legend(loc=\"best\")\n",
    "    plt.xlabel(\"Iterations\")\n",
    "    plt.ylabel(\"Evaluation\")\n",
    "    \n",
    "    \n",
    "    print('Algorithm Total Times: ')\n",
    "    print('Randomized Hill Climbing: ' + str(rhc_result_time))\n",
    "    print('Simulated Annealing: ' + str(sa_result_time))\n",
    "    print('Genetic Algorithm: ' + str(ga_result_time))\n",
    "    print('MIMIC: ' + str(mimic_result_time))"
   ]
  },
  {
   "cell_type": "markdown",
   "metadata": {},
   "source": [
    "### Four Peaks Problem"
   ]
  },
  {
   "cell_type": "code",
   "execution_count": 11,
   "metadata": {},
   "outputs": [],
   "source": [
    "# Defining Discrete Problem Object\n",
    "FPP_object = mlrose_hiive.DiscreteOpt(length=100, fitness_fn=fitness_functions[0], maximize=True)"
   ]
  },
  {
   "cell_type": "code",
   "execution_count": null,
   "metadata": {},
   "outputs": [],
   "source": [
    "# Randomized Hill Climbing\n",
    "rhc(FPP_object, max_attempts, max_iterations, 80, 'Four Peaks')"
   ]
  },
  {
   "cell_type": "code",
   "execution_count": 50,
   "metadata": {},
   "outputs": [
    {
     "data": {
      "text/plain": [
       "'Simulated Annealing total time: 0.003002643585205078'"
      ]
     },
     "execution_count": 50,
     "metadata": {},
     "output_type": "execute_result"
    },
    {
     "data": {
      "image/png": "[encoded data removed]",
      "text/plain": [
       "<Figure size 432x288 with 1 Axes>"
      ]
     },
     "metadata": {
      "needs_background": "light"
     },
     "output_type": "display_data"
    }
   ],
   "source": [
    "# Simulated Annealing\n",
    "FPP_schdeule = [1, 0.1, 1]\n",
    "sa(FPP_object, max_attempts, max_iterations, FPP_schdeule, 'Four Peaks')"
   ]
  },
  {
   "cell_type": "code",
   "execution_count": 53,
   "metadata": {},
   "outputs": [
    {
     "data": {
      "text/plain": [
       "'Genetic Algorithm total time: 0.7977256774902344'"
      ]
     },
     "execution_count": 53,
     "metadata": {},
     "output_type": "execute_result"
    },
    {
     "data": {
      "image/png": "[encoded data removed]",
      "text/plain": [
       "<Figure size 432x288 with 1 Axes>"
      ]
     },
     "metadata": {
      "needs_background": "light"
     },
     "output_type": "display_data"
    }
   ],
   "source": [
    "# Genetic Algorithm \n",
    "ga(FPP_object, max_attempts, max_iterations, 100, 0.2, 'Four Peaks')"
   ]
  },
  {
   "cell_type": "code",
   "execution_count": null,
   "metadata": {},
   "outputs": [],
   "source": [
    "# MIMIC\n",
    "mimic(FPP_object, 0.25, 'Four Peaks')"
   ]
  },
  {
   "cell_type": "code",
   "execution_count": 36,
   "metadata": {},
   "outputs": [
    {
     "name": "stdout",
     "output_type": "stream",
     "text": [
      "Algorithm Total Times: \n",
      "Randomized Hill Climbing: 0.15012788772583008\n",
      "Simulated Annealing: 0.0040035247802734375\n",
      "Genetic Algorithm: 1.5635886192321777\n",
      "MIMIC: 343.64394211769104\n"
     ]
    },
    {
     "data": {
      "image/png": "[encoded data removed]",
      "text/plain": [
       "<Figure size 432x288 with 1 Axes>"
      ]
     },
     "metadata": {
      "needs_background": "light"
     },
     "output_type": "display_data"
    }
   ],
   "source": [
    "# All Algorithm Comparison\n",
    "algo_comparison(FPP_object, 'Fitness vs Iteration: Four Peaks Problem', 80, [1, 0.1, 1], 200, 0.2, 200, 0.25)"
   ]
  },
  {
   "cell_type": "code",
   "execution_count": 37,
   "metadata": {},
   "outputs": [
    {
     "name": "stdout",
     "output_type": "stream",
     "text": [
      "Algorithm Total Times: \n",
      "Randomized Hill Climbing: 0.1511380672454834\n",
      "Simulated Annealing: 0.0030024051666259766\n",
      "Genetic Algorithm: 1.6164700984954834\n",
      "MIMIC: 345.86822986602783\n"
     ]
    },
    {
     "data": {
      "image/png": "[encoded data removed]",
      "text/plain": [
       "<Figure size 432x288 with 1 Axes>"
      ]
     },
     "metadata": {
      "needs_background": "light"
     },
     "output_type": "display_data"
    }
   ],
   "source": [
    "algo_evaluation(FPP_object, 'Evaluation vs Iteration: Four Peaks Problem', 80, [1, 0.1, 1], 200, 0.2, 200, 0.25)"
   ]
  },
  {
   "cell_type": "markdown",
   "metadata": {},
   "source": [
    "### Continuous Peaks Problem"
   ]
  },
  {
   "cell_type": "code",
   "execution_count": 45,
   "metadata": {},
   "outputs": [],
   "source": [
    "# Defining Discrete Problem Object\n",
    "CPP_object = mlrose_hiive.DiscreteOpt(length=100, fitness_fn=fitness_functions[1], maximize=True)"
   ]
  },
  {
   "cell_type": "code",
   "execution_count": null,
   "metadata": {},
   "outputs": [],
   "source": [
    "# Randomized Hill Climbing\n",
    "rhc(CPP_object, max_attempts, max_iterations, 70, 'Continuous Peaks')\n"
   ]
  },
  {
   "cell_type": "code",
   "execution_count": 58,
   "metadata": {},
   "outputs": [
    {
     "data": {
      "text/plain": [
       "'Simulated Annealing total time: 0.020018339157104492'"
      ]
     },
     "execution_count": 58,
     "metadata": {},
     "output_type": "execute_result"
    },
    {
     "data": {
      "image/png": "[encoded data removed]",
      "text/plain": [
       "<Figure size 432x288 with 1 Axes>"
      ]
     },
     "metadata": {
      "needs_background": "light"
     },
     "output_type": "display_data"
    }
   ],
   "source": [
    "# Simulated Annealing\n",
    "CPP_schdeule = [1, 0.1, 1]\n",
    "sa(CPP_object, max_attempts, max_iterations, CPP_schdeule, 'Continuous Peaks')"
   ]
  },
  {
   "cell_type": "code",
   "execution_count": null,
   "metadata": {},
   "outputs": [],
   "source": [
    "# Genetic Algorithm \n",
    "ga(CPP_object, max_attempts, max_iterations, 100, 0.2, 'Continuous Peaks')"
   ]
  },
  {
   "cell_type": "code",
   "execution_count": null,
   "metadata": {},
   "outputs": [],
   "source": [
    "# MIMIC\n",
    "mimic(CPP_object, 0.5, 'Continuous Peaks')"
   ]
  },
  {
   "cell_type": "code",
   "execution_count": 46,
   "metadata": {},
   "outputs": [
    {
     "name": "stdout",
     "output_type": "stream",
     "text": [
      "Algorithm Total Times: \n",
      "Randomized Hill Climbing: 0.6595983505249023\n",
      "Simulated Annealing: 0.016015052795410156\n",
      "Genetic Algorithm: 2.7565081119537354\n",
      "MIMIC: 328.77205538749695\n"
     ]
    },
    {
     "data": {
      "image/png": "[encoded data removed]",
      "text/plain": [
       "<Figure size 432x288 with 1 Axes>"
      ]
     },
     "metadata": {
      "needs_background": "light"
     },
     "output_type": "display_data"
    }
   ],
   "source": [
    "# All Algorithm Comparison\n",
    "algo_comparison(CPP_object, 'Fitness vs Iteration: Continuous Peaks Problem', 70, [1, 0.1, 0.001], 200, 0.2, 200, 0.25)"
   ]
  },
  {
   "cell_type": "code",
   "execution_count": 47,
   "metadata": {},
   "outputs": [
    {
     "name": "stdout",
     "output_type": "stream",
     "text": [
      "Algorithm Total Times: \n",
      "Randomized Hill Climbing: 0.14212989807128906\n",
      "Simulated Annealing: 0.0030014514923095703\n",
      "Genetic Algorithm: 1.5654244422912598\n",
      "MIMIC: 341.36368060112\n"
     ]
    },
    {
     "data": {
      "image/png": "[encoded data removed]",
      "text/plain": [
       "<Figure size 432x288 with 1 Axes>"
      ]
     },
     "metadata": {
      "needs_background": "light"
     },
     "output_type": "display_data"
    }
   ],
   "source": [
    "algo_evaluation(FPP_object, 'Evaluation vs Iteration: Four Peaks Problem', 70, [1, 0.1, 0.001], 200, 0.2, 200, 0.25)"
   ]
  },
  {
   "cell_type": "markdown",
   "metadata": {},
   "source": [
    "### Flip Flop Problem"
   ]
  },
  {
   "cell_type": "code",
   "execution_count": 55,
   "metadata": {},
   "outputs": [],
   "source": [
    "# Defining Discrete Problem Object\n",
    "FFP_object = mlrose_hiive.DiscreteOpt(length=100, fitness_fn=fitness_functions[2], maximize=True)"
   ]
  },
  {
   "cell_type": "code",
   "execution_count": 65,
   "metadata": {},
   "outputs": [
    {
     "data": {
      "text/plain": [
       "'Randomized Hill Climbing total time: 2.4275431632995605'"
      ]
     },
     "execution_count": 65,
     "metadata": {},
     "output_type": "execute_result"
    },
    {
     "data": {
      "image/png": "[encoded data removed]",
      "text/plain": [
       "<Figure size 432x288 with 1 Axes>"
      ]
     },
     "metadata": {
      "needs_background": "light"
     },
     "output_type": "display_data"
    }
   ],
   "source": [
    "# Randomized Hill Climbing\n",
    "rhc(FFP_object, max_attempts, max_iterations, 70, 'Flip Flop Problem')"
   ]
  },
  {
   "cell_type": "code",
   "execution_count": 61,
   "metadata": {},
   "outputs": [
    {
     "data": {
      "text/plain": [
       "'Simulated Annealing total time: 0.39835429191589355'"
      ]
     },
     "execution_count": 61,
     "metadata": {},
     "output_type": "execute_result"
    },
    {
     "data": {
      "image/png": "[encoded data removed]",
      "text/plain": [
       "<Figure size 432x288 with 1 Axes>"
      ]
     },
     "metadata": {
      "needs_background": "light"
     },
     "output_type": "display_data"
    }
   ],
   "source": [
    "# Simulated Annealing\n",
    "FFP_schdeule = [64, 0.8, 0.001]\n",
    "sa(FFP_object, max_attempts, max_iterations, FFP_schdeule, 'Flip Flop Problem')"
   ]
  },
  {
   "cell_type": "code",
   "execution_count": 66,
   "metadata": {},
   "outputs": [
    {
     "data": {
      "text/plain": [
       "'Genetic Algorithm total time: 3.5872631072998047'"
      ]
     },
     "execution_count": 66,
     "metadata": {},
     "output_type": "execute_result"
    },
    {
     "data": {
      "image/png": "[encoded data removed]",
      "text/plain": [
       "<Figure size 432x288 with 1 Axes>"
      ]
     },
     "metadata": {
      "needs_background": "light"
     },
     "output_type": "display_data"
    }
   ],
   "source": [
    "# Genetic Algorithm \n",
    "ga(FFP_object, max_attempts, max_iterations, 100, 0.2, 'Flip Flop Problem')"
   ]
  },
  {
   "cell_type": "code",
   "execution_count": null,
   "metadata": {},
   "outputs": [],
   "source": [
    "# MIMIC\n",
    "mimic(FFP_object, 0.25, 'Flip Flop Problem')"
   ]
  },
  {
   "cell_type": "code",
   "execution_count": 56,
   "metadata": {},
   "outputs": [
    {
     "name": "stdout",
     "output_type": "stream",
     "text": [
      "Algorithm Total Times: \n",
      "Randomized Hill Climbing: 2.4454874992370605\n",
      "Simulated Annealing: 0.052047014236450195\n",
      "Genetic Algorithm: 7.081442356109619\n",
      "MIMIC: 327.0940799713135\n"
     ]
    },
    {
     "data": {
      "image/png": "[encoded data removed]",
      "text/plain": [
       "<Figure size 432x288 with 1 Axes>"
      ]
     },
     "metadata": {
      "needs_background": "light"
     },
     "output_type": "display_data"
    }
   ],
   "source": [
    "# All Algorithm Comparison\n",
    "algo_comparison(FFP_object, 'Fitness vs Iteration: Flip Flop Problem', 70, [64, 0.8, 0.001], 200, 0.2, 200, 0.25)"
   ]
  },
  {
   "cell_type": "code",
   "execution_count": 57,
   "metadata": {},
   "outputs": [
    {
     "name": "stdout",
     "output_type": "stream",
     "text": [
      "Algorithm Total Times: \n",
      "Randomized Hill Climbing: 0.1331188678741455\n",
      "Simulated Annealing: 0.0030031204223632812\n",
      "Genetic Algorithm: 1.5674264430999756\n",
      "MIMIC: 342.7644703388214\n"
     ]
    },
    {
     "data": {
      "image/png": "[encoded data removed]",
      "text/plain": [
       "<Figure size 432x288 with 1 Axes>"
      ]
     },
     "metadata": {
      "needs_background": "light"
     },
     "output_type": "display_data"
    }
   ],
   "source": [
    "algo_evaluation(FPP_object, 'Evaluation vs Iteration: Four Peaks Problem', 70, [64, 0.8, 0.001], 200, 0.2, 200, 0.25)"
   ]
  },
  {
   "cell_type": "code",
   "execution_count": null,
   "metadata": {},
   "outputs": [],
   "source": []
  }
 ],
 "metadata": {
  "kernelspec": {
   "display_name": "Python 3",
   "language": "python",
   "name": "python3"
  },
  "language_info": {
   "codemirror_mode": {
    "name": "ipython",
    "version": 3
   },
   "file_extension": ".py",
   "mimetype": "text/x-python",
   "name": "python",
   "nbconvert_exporter": "python",
   "pygments_lexer": "ipython3",
   "version": "3.8.5"
  }
 },
 "nbformat": 4,
 "nbformat_minor": 4
}
